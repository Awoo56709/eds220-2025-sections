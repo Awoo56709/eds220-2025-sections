{
 "cells": [
  {
   "cell_type": "markdown",
   "id": "ae9d9cbf-00fb-4b6a-8223-e0afde9f1a5c",
   "metadata": {},
   "source": [
    "# Section 3 Snowshoe "
   ]
  },
  {
   "cell_type": "markdown",
   "id": "9404af78-8944-4b82-abca-74a489c7ff1d",
   "metadata": {},
   "source": [
    "# 1) Archive Exploration"
   ]
  },
  {
   "cell_type": "markdown",
   "id": "3dc3c041-7b8d-47e8-8bde-2f8d1213faac",
   "metadata": {},
   "source": [
    "- What is this data about?\n",
    "- During what time frame were the observations in the dataset collected?\n",
    "Does the dataset contain sensitive data?\n",
    "Is there a publication associated with this dataset?\n",
    "\n",
    "\n",
    "\n",
    "\n",
    "- i) This dataset references physical and demographical data on a \"keystone\" prey species in the northern boreal forest that experiences fluctuations in population from 8 - 11 years. The txt file contains observational variables such as: ear length, sex, age, weight, ear tag ID and type of survey.\n",
    "- It is noted that this prey species population cycles is cornerstone to the influences of vegetation and predators.\n",
    "\n",
    "- ii) This capture and re-capture took place for 2 - 3 years\n",
    "\n",
    "\n",
    "\n",
    "\n",
    "\n",
    "# Citation\n",
    "\n",
    "Kielland, K., F.S. Chapin, R.W. Ruess, and Bonanza Creek LTER. 2017. Snowshoe hare physical data in Bonanza Creek Experimental Forest: 1999-Present ver 22. Environmental Data Initiative."
   ]
  },
  {
   "cell_type": "markdown",
   "id": "9a09d575-1500-4b0b-967a-080df7b4764c",
   "metadata": {},
   "source": [
    "# 2) Adding An Image"
   ]
  },
  {
   "cell_type": "markdown",
   "id": "c8979377-68c5-407b-a39c-698eef2e914b",
   "metadata": {
    "tags": []
   },
   "source": [
    "![Snowshoe Rabbit](https://upload.wikimedia.org/wikipedia/commons/thumb/8/8a/SNOWSHOE_HARE_%28Lepus_americanus%29_%285-28-2015%29_quoddy_head%2C_washington_co%2C_maine_-01_%2818988734889%29.jpg/1089px-SNOWSHOE_HARE_%28Lepus_americanus%29_%285-28-2015%29_quoddy_head%2C_washington_co%2C_maine_-01_%2818988734889%29.jpg?20170313021652)"
   ]
  },
  {
   "cell_type": "markdown",
   "id": "b2051ddc-7964-4337-aa3c-5125fee6ce1e",
   "metadata": {
    "tags": []
   },
   "source": [
    "# 3) Data Loading and Preliminary Exploration"
   ]
  },
  {
   "cell_type": "code",
   "execution_count": 10,
   "id": "3eec7b5d-fea9-407d-9583-31ba0a57231f",
   "metadata": {
    "tags": []
   },
   "outputs": [],
   "source": [
    "#Importing libraries\n",
    "import pandas as pd\n",
    "import numpy as np\n",
    "\n",
    "hares = pd.read_csv('data/55_Hare_Data_2012.txt')"
   ]
  },
  {
   "cell_type": "code",
   "execution_count": 13,
   "id": "3b4d6754-f5f5-4102-945d-f9f36b47fd66",
   "metadata": {
    "tags": []
   },
   "outputs": [
    {
     "data": {
      "text/html": [
       "<div>\n",
       "<style scoped>\n",
       "    .dataframe tbody tr th:only-of-type {\n",
       "        vertical-align: middle;\n",
       "    }\n",
       "\n",
       "    .dataframe tbody tr th {\n",
       "        vertical-align: top;\n",
       "    }\n",
       "\n",
       "    .dataframe thead th {\n",
       "        text-align: right;\n",
       "    }\n",
       "</style>\n",
       "<table border=\"1\" class=\"dataframe\">\n",
       "  <thead>\n",
       "    <tr style=\"text-align: right;\">\n",
       "      <th></th>\n",
       "      <th>date</th>\n",
       "      <th>time</th>\n",
       "      <th>grid</th>\n",
       "      <th>trap</th>\n",
       "      <th>l_ear</th>\n",
       "      <th>r_ear</th>\n",
       "      <th>sex</th>\n",
       "      <th>age</th>\n",
       "      <th>weight</th>\n",
       "      <th>hindft</th>\n",
       "      <th>notes</th>\n",
       "      <th>b_key</th>\n",
       "      <th>session_id</th>\n",
       "      <th>study</th>\n",
       "    </tr>\n",
       "  </thead>\n",
       "  <tbody>\n",
       "    <tr>\n",
       "      <th>0</th>\n",
       "      <td>11/26/1998</td>\n",
       "      <td>NaN</td>\n",
       "      <td>bonrip</td>\n",
       "      <td>1A</td>\n",
       "      <td>414D096A08</td>\n",
       "      <td>NaN</td>\n",
       "      <td>NaN</td>\n",
       "      <td>NaN</td>\n",
       "      <td>1370.0</td>\n",
       "      <td>160.0</td>\n",
       "      <td>NaN</td>\n",
       "      <td>917.0</td>\n",
       "      <td>51</td>\n",
       "      <td>Population</td>\n",
       "    </tr>\n",
       "    <tr>\n",
       "      <th>1</th>\n",
       "      <td>11/26/1998</td>\n",
       "      <td>NaN</td>\n",
       "      <td>bonrip</td>\n",
       "      <td>2C</td>\n",
       "      <td>414D320671</td>\n",
       "      <td>NaN</td>\n",
       "      <td>M</td>\n",
       "      <td>NaN</td>\n",
       "      <td>1430.0</td>\n",
       "      <td>NaN</td>\n",
       "      <td>NaN</td>\n",
       "      <td>936.0</td>\n",
       "      <td>51</td>\n",
       "      <td>Population</td>\n",
       "    </tr>\n",
       "    <tr>\n",
       "      <th>2</th>\n",
       "      <td>11/26/1998</td>\n",
       "      <td>NaN</td>\n",
       "      <td>bonrip</td>\n",
       "      <td>2D</td>\n",
       "      <td>414D103E3A</td>\n",
       "      <td>NaN</td>\n",
       "      <td>M</td>\n",
       "      <td>NaN</td>\n",
       "      <td>1430.0</td>\n",
       "      <td>NaN</td>\n",
       "      <td>NaN</td>\n",
       "      <td>921.0</td>\n",
       "      <td>51</td>\n",
       "      <td>Population</td>\n",
       "    </tr>\n",
       "    <tr>\n",
       "      <th>3</th>\n",
       "      <td>11/26/1998</td>\n",
       "      <td>NaN</td>\n",
       "      <td>bonrip</td>\n",
       "      <td>2E</td>\n",
       "      <td>414D262D43</td>\n",
       "      <td>NaN</td>\n",
       "      <td>NaN</td>\n",
       "      <td>NaN</td>\n",
       "      <td>1490.0</td>\n",
       "      <td>135.0</td>\n",
       "      <td>NaN</td>\n",
       "      <td>931.0</td>\n",
       "      <td>51</td>\n",
       "      <td>Population</td>\n",
       "    </tr>\n",
       "    <tr>\n",
       "      <th>4</th>\n",
       "      <td>11/26/1998</td>\n",
       "      <td>NaN</td>\n",
       "      <td>bonrip</td>\n",
       "      <td>3B</td>\n",
       "      <td>414D2B4B58</td>\n",
       "      <td>NaN</td>\n",
       "      <td>NaN</td>\n",
       "      <td>NaN</td>\n",
       "      <td>1710.0</td>\n",
       "      <td>150.0</td>\n",
       "      <td>NaN</td>\n",
       "      <td>933.0</td>\n",
       "      <td>51</td>\n",
       "      <td>Population</td>\n",
       "    </tr>\n",
       "  </tbody>\n",
       "</table>\n",
       "</div>"
      ],
      "text/plain": [
       "         date time    grid trap       l_ear r_ear  sex  age  weight  hindft  \\\n",
       "0  11/26/1998  NaN  bonrip   1A  414D096A08   NaN  NaN  NaN  1370.0   160.0   \n",
       "1  11/26/1998  NaN  bonrip   2C  414D320671   NaN    M  NaN  1430.0     NaN   \n",
       "2  11/26/1998  NaN  bonrip   2D  414D103E3A   NaN    M  NaN  1430.0     NaN   \n",
       "3  11/26/1998  NaN  bonrip   2E  414D262D43   NaN  NaN  NaN  1490.0   135.0   \n",
       "4  11/26/1998  NaN  bonrip   3B  414D2B4B58   NaN  NaN  NaN  1710.0   150.0   \n",
       "\n",
       "  notes  b_key  session_id       study  \n",
       "0   NaN  917.0          51  Population  \n",
       "1   NaN  936.0          51  Population  \n",
       "2   NaN  921.0          51  Population  \n",
       "3   NaN  931.0          51  Population  \n",
       "4   NaN  933.0          51  Population  "
      ]
     },
     "execution_count": 13,
     "metadata": {},
     "output_type": "execute_result"
    }
   ],
   "source": [
    "hares.head()"
   ]
  },
  {
   "cell_type": "code",
   "execution_count": 14,
   "id": "5b81a59f-1af4-48c9-a1d4-17cfae5e87f1",
   "metadata": {
    "tags": []
   },
   "outputs": [
    {
     "name": "stdout",
     "output_type": "stream",
     "text": [
      "         date time    grid trap       l_ear r_ear  sex  age  weight  hindft  \\\n",
      "0  11/26/1998  NaN  bonrip   1A  414D096A08   NaN  NaN  NaN  1370.0   160.0   \n",
      "1  11/26/1998  NaN  bonrip   2C  414D320671   NaN    M  NaN  1430.0     NaN   \n",
      "2  11/26/1998  NaN  bonrip   2D  414D103E3A   NaN    M  NaN  1430.0     NaN   \n",
      "3  11/26/1998  NaN  bonrip   2E  414D262D43   NaN  NaN  NaN  1490.0   135.0   \n",
      "4  11/26/1998  NaN  bonrip   3B  414D2B4B58   NaN  NaN  NaN  1710.0   150.0   \n",
      "\n",
      "  notes  b_key  session_id       study  \n",
      "0   NaN  917.0          51  Population  \n",
      "1   NaN  936.0          51  Population  \n",
      "2   NaN  921.0          51  Population  \n",
      "3   NaN  931.0          51  Population  \n",
      "4   NaN  933.0          51  Population  \n",
      "          date      time    grid trap l_ear r_ear  sex  age  weight  hindft  \\\n",
      "3375  8/8/2002  18:00:00  bonrip  1b   1201  1202  NaN  NaN  1400.0     NaN   \n",
      "3376  8/8/2002   6:00:00  bonrip  4b   1201  1202  NaN  NaN     NaN     NaN   \n",
      "3377  8/7/2002       NaN  bonrip   4b  1217  1218  NaN  NaN  1000.0   134.0   \n",
      "3378  8/8/2002       NaN  bonrip   6d  1217  1218  NaN  NaN   990.0     NaN   \n",
      "3379  8/6/2002       NaN  bonrip   4b  1058  1060    M  NaN  1460.0   119.0   \n",
      "\n",
      "     notes  b_key  session_id       study  \n",
      "3375   NaN   63.0          64  Population  \n",
      "3376   NaN   63.0          64  Population  \n",
      "3377   NaN   69.0          64  Population  \n",
      "3378   NaN   69.0          64  Population  \n",
      "3379   NaN   32.0          64  Population  \n",
      "<class 'pandas.core.frame.DataFrame'>\n",
      "RangeIndex: 3380 entries, 0 to 3379\n",
      "Data columns (total 14 columns):\n",
      " #   Column      Non-Null Count  Dtype  \n",
      "---  ------      --------------  -----  \n",
      " 0   date        3380 non-null   object \n",
      " 1   time        264 non-null    object \n",
      " 2   grid        3380 non-null   object \n",
      " 3   trap        3368 non-null   object \n",
      " 4   l_ear       3332 non-null   object \n",
      " 5   r_ear       3211 non-null   object \n",
      " 6   sex         3028 non-null   object \n",
      " 7   age         1269 non-null   object \n",
      " 8   weight      2845 non-null   float64\n",
      " 9   hindft      1633 non-null   float64\n",
      " 10  notes       243 non-null    object \n",
      " 11  b_key       3333 non-null   float64\n",
      " 12  session_id  3380 non-null   int64  \n",
      " 13  study       3217 non-null   object \n",
      "dtypes: float64(3), int64(1), object(10)\n",
      "memory usage: 369.8+ KB\n",
      "None\n"
     ]
    }
   ],
   "source": [
    "print(hares.head(), end = \"\\n\")\n",
    "print(hares.tail(), end = \"\\n\")\n",
    "print(hares.info(), end = \"\\n\")"
   ]
  },
  {
   "cell_type": "code",
   "execution_count": 15,
   "id": "82be9317-3799-496b-8da3-b12420147356",
   "metadata": {
    "tags": []
   },
   "outputs": [
    {
     "name": "stdout",
     "output_type": "stream",
     "text": [
      "<class 'pandas.core.frame.DataFrame'>\n",
      "RangeIndex: 3380 entries, 0 to 3379\n",
      "Data columns (total 14 columns):\n",
      " #   Column      Non-Null Count  Dtype  \n",
      "---  ------      --------------  -----  \n",
      " 0   date        3380 non-null   object \n",
      " 1   time        264 non-null    object \n",
      " 2   grid        3380 non-null   object \n",
      " 3   trap        3368 non-null   object \n",
      " 4   l_ear       3332 non-null   object \n",
      " 5   r_ear       3211 non-null   object \n",
      " 6   sex         3028 non-null   object \n",
      " 7   age         1269 non-null   object \n",
      " 8   weight      2845 non-null   float64\n",
      " 9   hindft      1633 non-null   float64\n",
      " 10  notes       243 non-null    object \n",
      " 11  b_key       3333 non-null   float64\n",
      " 12  session_id  3380 non-null   int64  \n",
      " 13  study       3217 non-null   object \n",
      "dtypes: float64(3), int64(1), object(10)\n",
      "memory usage: 369.8+ KB\n"
     ]
    }
   ],
   "source": [
    "hares.info()"
   ]
  },
  {
   "cell_type": "markdown",
   "id": "be27e8c8-adef-4a03-b1d0-16805a5e264e",
   "metadata": {},
   "source": [
    "# Preliminary Exploration"
   ]
  },
  {
   "cell_type": "markdown",
   "id": "7cfce22a-b592-49b7-96d7-eceb8a4e9470",
   "metadata": {},
   "source": [
    "## What are the dimensions of the dataframe and what are the data types of the columns? Do the data types match what you would expect from each column?"
   ]
  },
  {
   "cell_type": "code",
   "execution_count": 16,
   "id": "ca95ddaa-822d-4ca3-b7de-8caccd780771",
   "metadata": {
    "tags": []
   },
   "outputs": [
    {
     "name": "stdout",
     "output_type": "stream",
     "text": [
      "(3380, 14)\n"
     ]
    }
   ],
   "source": [
    "print(hares.shape, end = \"\\n\")"
   ]
  },
  {
   "cell_type": "markdown",
   "id": "e6756c60-90ee-4f84-bfbc-6dadefad33b3",
   "metadata": {},
   "source": [
    "The dimensions are 3380 observations and 14 variables"
   ]
  },
  {
   "cell_type": "markdown",
   "id": "e6372113-cfe5-461f-ab32-bdfe3f5c5e75",
   "metadata": {},
   "source": [
    "## Are there any columns that have a significant number of NA values?"
   ]
  },
  {
   "cell_type": "code",
   "execution_count": 17,
   "id": "2e14e48b-1d2b-4933-85c2-a409b24b6525",
   "metadata": {
    "tags": []
   },
   "outputs": [
    {
     "data": {
      "text/plain": [
       "date             0\n",
       "time          3116\n",
       "grid             0\n",
       "trap            12\n",
       "l_ear           48\n",
       "r_ear          169\n",
       "sex            352\n",
       "age           2111\n",
       "weight         535\n",
       "hindft        1747\n",
       "notes         3137\n",
       "b_key           47\n",
       "session_id       0\n",
       "study          163\n",
       "dtype: int64"
      ]
     },
     "execution_count": 17,
     "metadata": {},
     "output_type": "execute_result"
    }
   ],
   "source": [
    "hares.isna().sum()"
   ]
  },
  {
   "cell_type": "markdown",
   "id": "d8849da1-cac3-4e71-839c-dc79aa130331",
   "metadata": {},
   "source": [
    "Counting NAs, we see that a significant amount of NA values in column time, age, hindft, sex, and notes columns.\n",
    "\n",
    "## What are the minimum and maximum values for  the weight and hind feet measurements?"
   ]
  },
  {
   "cell_type": "code",
   "execution_count": 18,
   "id": "9c8b2868-6497-4a96-92e8-e017d1d2f1ed",
   "metadata": {
    "tags": []
   },
   "outputs": [
    {
     "name": "stdout",
     "output_type": "stream",
     "text": [
      "The min and max of weight are \n",
      "\n",
      "0.0\n",
      "2365.0 \n",
      "\n",
      "The min and max of hind feet are \n",
      "\n",
      "60.0\n",
      "160.0\n"
     ]
    }
   ],
   "source": [
    "print('The min and max of weight are \\n')\n",
    "print(hares['weight'].min())\n",
    "print(hares['weight'].max(),'\\n')\n",
    "print('The min and max of hind feet are \\n')\n",
    "print(hares['hindft'].min())\n",
    "print(hares['hindft'].max())"
   ]
  },
  {
   "cell_type": "markdown",
   "id": "c3fd0cfd-59ef-4ef6-afa0-0702813644e8",
   "metadata": {},
   "source": [
    "## What are the unique values for some of the categorical columns?"
   ]
  },
  {
   "cell_type": "code",
   "execution_count": 29,
   "id": "a7856549-463f-49de-acdd-5239d374f56e",
   "metadata": {
    "tags": []
   },
   "outputs": [
    {
     "name": "stdout",
     "output_type": "stream",
     "text": [
      "['bonrip' 'bonbs' 'Bonbs' 'bonmat' 'bonmat ']\n",
      "[nan 'M' 'F' '?' 'F?' 'M?' 'pf' 'm' 'f' 'f?' 'm?' 'f ' 'm ']\n"
     ]
    }
   ],
   "source": [
    "print(hares['grid'].unique())\n",
    "print(hares['sex'].unique())"
   ]
  },
  {
   "cell_type": "code",
   "execution_count": 20,
   "id": "f1fd3452-2cf6-4aa6-b939-1a1d70af7c30",
   "metadata": {
    "tags": []
   },
   "outputs": [
    {
     "name": "stdout",
     "output_type": "stream",
     "text": [
      "5\n",
      "12\n",
      "266\n",
      "121\n"
     ]
    }
   ],
   "source": [
    "print(hares['grid'].nunique())\n",
    "print(hares['sex'].nunique())\n",
    "print(hares['weight'].nunique())\n",
    "print(hares['trap'].nunique())"
   ]
  },
  {
   "cell_type": "markdown",
   "id": "719bd4e8-99b6-4dc3-8522-a0ef1c986004",
   "metadata": {},
   "source": [
    "- An explroatory question about the data frame you come up with!"
   ]
  },
  {
   "cell_type": "markdown",
   "id": "5b4ad7de-f29d-42a2-a84c-41790fa38215",
   "metadata": {},
   "source": [
    "### What trap captured the most hares?"
   ]
  },
  {
   "cell_type": "markdown",
   "id": "4f49b5b3-c3a7-4f5f-a8c3-40fabd46e940",
   "metadata": {
    "tags": []
   },
   "source": [
    "# 4) Detecting Messy Values"
   ]
  },
  {
   "cell_type": "markdown",
   "id": "049ab162-f5fb-4c64-8bff-1daaa0c44176",
   "metadata": {
    "tags": []
   },
   "source": [
    "### a) In the metadata section of the EDI repository, find which are the allowed values for the hares’ sex. Create a small table in a markdown cell showing the values and their definitions."
   ]
  },
  {
   "cell_type": "markdown",
   "id": "9f6912ce-3fc5-4d25-9074-904ed8795387",
   "metadata": {
    "tags": []
   },
   "source": [
    "| Code | Definition |\n",
    "|------|------------|\n",
    "| F    | Female     |\n",
    "| M    | Male       |\n",
    "| m?    | male not confirmed     |"
   ]
  },
  {
   "cell_type": "markdown",
   "id": "65749055-324c-458b-8e46-47e189f71106",
   "metadata": {},
   "source": [
    "### b) Get the number of times each unique sex non-NA value appears."
   ]
  },
  {
   "cell_type": "code",
   "execution_count": 28,
   "id": "5283b1b7-6b60-4dda-8388-2dbb534e9664",
   "metadata": {
    "tags": []
   },
   "outputs": [
    {
     "data": {
      "text/plain": [
       "sex\n",
       "F      1161\n",
       "M       730\n",
       "f       556\n",
       "m       515\n",
       "NaN     352\n",
       "?        40\n",
       "F?       10\n",
       "f         4\n",
       "m         4\n",
       "f?        3\n",
       "M?        2\n",
       "m?        2\n",
       "pf        1\n",
       "Name: count, dtype: int64"
      ]
     },
     "execution_count": 28,
     "metadata": {},
     "output_type": "execute_result"
    }
   ],
   "source": [
    "hares['sex'].value_counts(dropna = False)"
   ]
  },
  {
   "cell_type": "markdown",
   "id": "5a81cf62-04cd-4efb-bb85-db3dffacf2dd",
   "metadata": {},
   "source": [
    "### c) Check the documentation of value_counts(). What is the purpose of the dropna parameter and what is its default value? Repeat step (a), this time adding the dropna=False parameter to value_counts()."
   ]
  },
  {
   "cell_type": "markdown",
   "id": "d358d82f-e8c8-4fb6-ae90-38a41ed9a58c",
   "metadata": {},
   "source": [
    "Purpse of the dropna parameter: whether to include counts of rows that contain NA values. Default is True"
   ]
  },
  {
   "cell_type": "markdown",
   "id": "20676237-60da-47b3-993f-2a74985d08d1",
   "metadata": {
    "tags": []
   },
   "source": [
    "## d. Discuss with your team the output of the unique value counts. In particular:\n",
    "- Do the values in the sex column correspond to the values declared in the metadata?\n",
    "Some values in the `sex` column do not correspond tothe values declared in the metadata.\n",
    "- What could have been potential causes for multiple codes?\n",
    "Because different observers entered the observations, there's no limits to the options of recording sex for hares.\n",
    "- Are there seemingly repated values? If so, what could be the cause?\n",
    "Capitalization, whitespace, adding question marks could be the cause of repeated values."
   ]
  },
  {
   "cell_type": "markdown",
   "id": "716ad745-90f4-4e3d-a154-0a28b5baadef",
   "metadata": {},
   "source": [
    "### Write code to confirm your suspicions about c-iii."
   ]
  },
  {
   "cell_type": "code",
   "execution_count": 30,
   "id": "fcdd95d1-e451-4a35-ab93-d1a9cfb1bec7",
   "metadata": {
    "tags": []
   },
   "outputs": [
    {
     "name": "stdout",
     "output_type": "stream",
     "text": [
      "[nan 'M' 'F' '?' 'F?' 'M?' 'pf' 'm' 'f' 'f?' 'm?' 'f ' 'm ']\n"
     ]
    }
   ],
   "source": [
    "print(hares['sex'].unique())"
   ]
  },
  {
   "cell_type": "markdown",
   "id": "ba04d4a0-32ff-408f-a1f5-1a7d91f4603f",
   "metadata": {},
   "source": [
    "# 5) Brainstorm "
   ]
  },
  {
   "cell_type": "markdown",
   "id": "8fddd6a1-0a48-4eab-af61-6c48870f2d03",
   "metadata": {},
   "source": [
    "Individually, write step-by-step instructions on how you would wrangle the hares data frame to clean the values in the sex column to have only two classes female and male. Which codes would you assign to each new class? Remember: It’s ok if you don’t know how to code each step - it’s more important to have an idea of what you would like to do.\n",
    "\n",
    "Discuss your step-by-step instructions with your team."
   ]
  },
  {
   "cell_type": "markdown",
   "id": "0cca90f0-f16b-45b6-9792-4786d12d240a",
   "metadata": {},
   "source": [
    "1)  Inspect the columns\n",
    "2) Strip whitespace\n",
    "3) convert all values to lowercase as per the metadata mapping\n",
    "4) Assume all characters that match the metadata definitions are correct and change any unexpected code to unknown\n",
    "5) Create a new column with np.select() or np.where()\n",
    "6) Check results with df.values_counts(dropna = False)"
   ]
  },
  {
   "cell_type": "markdown",
   "id": "fe20188c-b408-41ea-8e9b-d000b288b86c",
   "metadata": {},
   "source": [
    "# 6) Clean Values"
   ]
  },
  {
   "cell_type": "code",
   "execution_count": 31,
   "id": "c1b492c3-57e6-42c3-997d-6327abbecf91",
   "metadata": {
    "tags": []
   },
   "outputs": [
    {
     "data": {
      "text/plain": [
       "array([nan, 'M', 'F', '?', 'F?', 'M?', 'pf', 'm', 'f', 'f?', 'm?', 'f ',\n",
       "       'm '], dtype=object)"
      ]
     },
     "execution_count": 31,
     "metadata": {},
     "output_type": "execute_result"
    }
   ],
   "source": [
    "hares['sex'].unique()"
   ]
  },
  {
   "cell_type": "code",
   "execution_count": 38,
   "id": "2cfac9c8-3737-4b88-a6d2-1bf4fa8cc203",
   "metadata": {
    "tags": []
   },
   "outputs": [],
   "source": [
    "x = hares.sex\n",
    "\n",
    "conditions = [\n",
    "    x.isin(['M','M?','m','m','m ','m_']),\n",
    "    x.isin(['F','f?','f','F?','f ', 'f_'])]\n",
    "\n",
    "output_list = ['male','female']\n",
    "\n",
    "new_column = np.select(conditions, output_list, default = np.nan)\n"
   ]
  },
  {
   "cell_type": "code",
   "execution_count": 41,
   "id": "f8b7a3ed-6603-403a-8404-a1bd53bef00f",
   "metadata": {
    "tags": []
   },
   "outputs": [],
   "source": [
    "hares['sex_simple'] = new_column"
   ]
  },
  {
   "cell_type": "code",
   "execution_count": 42,
   "id": "7534629d-0b17-4113-b181-ac9383493123",
   "metadata": {
    "tags": []
   },
   "outputs": [
    {
     "data": {
      "text/plain": [
       "sex_simple\n",
       "female    1734\n",
       "male      1251\n",
       "nan        395\n",
       "Name: count, dtype: int64"
      ]
     },
     "execution_count": 42,
     "metadata": {},
     "output_type": "execute_result"
    }
   ],
   "source": [
    "hares['sex_simple'].value_counts()"
   ]
  },
  {
   "cell_type": "code",
   "execution_count": 43,
   "id": "b231d13b-3b4f-41c9-87fa-ad5f7b0f0577",
   "metadata": {
    "tags": []
   },
   "outputs": [
    {
     "data": {
      "text/plain": [
       "sex_simple\n",
       "female    1734\n",
       "male      1251\n",
       "nan        395\n",
       "Name: count, dtype: int64"
      ]
     },
     "execution_count": 43,
     "metadata": {},
     "output_type": "execute_result"
    }
   ],
   "source": [
    "hares['sex_simple'].value_counts()"
   ]
  },
  {
   "cell_type": "markdown",
   "id": "d378a86f-d151-42eb-b69f-9d6b89e9301a",
   "metadata": {},
   "source": [
    "# 7) Calcuate Mean Weight"
   ]
  },
  {
   "cell_type": "code",
   "execution_count": null,
   "id": "4a3a7284-1a33-488f-91d8-5cf00345fc40",
   "metadata": {},
   "outputs": [],
   "source": [
    "hares.groupby(by = 'sex_simple')"
   ]
  }
 ],
 "metadata": {
  "kernelspec": {
   "display_name": "EDS220",
   "language": "python",
   "name": "eds220-env"
  },
  "language_info": {
   "codemirror_mode": {
    "name": "ipython",
    "version": 3
   },
   "file_extension": ".py",
   "mimetype": "text/x-python",
   "name": "python",
   "nbconvert_exporter": "python",
   "pygments_lexer": "ipython3",
   "version": "3.11.4"
  }
 },
 "nbformat": 4,
 "nbformat_minor": 5
}
