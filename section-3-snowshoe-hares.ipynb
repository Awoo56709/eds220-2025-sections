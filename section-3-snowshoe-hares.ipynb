{
 "cells": [
  {
   "cell_type": "markdown",
   "id": "ae9d9cbf-00fb-4b6a-8223-e0afde9f1a5c",
   "metadata": {},
   "source": [
    "# Section 3 Snowshoe "
   ]
  },
  {
   "cell_type": "markdown",
   "id": "9404af78-8944-4b82-abca-74a489c7ff1d",
   "metadata": {},
   "source": [
    "# Archive Exploration"
   ]
  },
  {
   "cell_type": "markdown",
   "id": "3dc3c041-7b8d-47e8-8bde-2f8d1213faac",
   "metadata": {},
   "source": [
    "## What is this data about?\n",
    "\n",
    "This dataset references physical and demographical data on a \"keystone\" prey species in the northern boreal forest that experiences fluctuations in population from 8 - 11 years. The txt file contains observation variables such as: ear length, sex, age, weight, ear tag ID and type of survey.\n",
    "\n",
    "It is noted that this prey species population cycles is cornerstone to the influences of vegetation and predators.\n",
    "\n",
    "2)"
   ]
  },
  {
   "cell_type": "markdown",
   "id": "9a09d575-1500-4b0b-967a-080df7b4764c",
   "metadata": {},
   "source": [
    "# Adding An Image"
   ]
  },
  {
   "cell_type": "markdown",
   "id": "c8979377-68c5-407b-a39c-698eef2e914b",
   "metadata": {
    "tags": []
   },
   "source": [
    "![Snowshoe Rabbit](https://upload.wikimedia.org/wikipedia/commons/thumb/8/8a/SNOWSHOE_HARE_%28Lepus_americanus%29_%285-28-2015%29_quoddy_head%2C_washington_co%2C_maine_-01_%2818988734889%29.jpg/1089px-SNOWSHOE_HARE_%28Lepus_americanus%29_%285-28-2015%29_quoddy_head%2C_washington_co%2C_maine_-01_%2818988734889%29.jpg?20170313021652)"
   ]
  },
  {
   "cell_type": "markdown",
   "id": "b2051ddc-7964-4337-aa3c-5125fee6ce1e",
   "metadata": {
    "tags": []
   },
   "source": [
    "# Data Loading and Preliminary Exploration"
   ]
  },
  {
   "cell_type": "code",
   "execution_count": 17,
   "id": "3eec7b5d-fea9-407d-9583-31ba0a57231f",
   "metadata": {
    "tags": []
   },
   "outputs": [],
   "source": [
    "#Importing libraries\n",
    "import pandas as pd\n",
    "import numpy as np\n",
    "\n",
    "hares = pd.read_csv('data/55_Hare_Data_2012.txt')"
   ]
  },
  {
   "cell_type": "code",
   "execution_count": 16,
   "id": "3b4d6754-f5f5-4102-945d-f9f36b47fd66",
   "metadata": {
    "tags": []
   },
   "outputs": [
    {
     "data": {
      "text/html": [
       "<div>\n",
       "<style scoped>\n",
       "    .dataframe tbody tr th:only-of-type {\n",
       "        vertical-align: middle;\n",
       "    }\n",
       "\n",
       "    .dataframe tbody tr th {\n",
       "        vertical-align: top;\n",
       "    }\n",
       "\n",
       "    .dataframe thead th {\n",
       "        text-align: right;\n",
       "    }\n",
       "</style>\n",
       "<table border=\"1\" class=\"dataframe\">\n",
       "  <thead>\n",
       "    <tr style=\"text-align: right;\">\n",
       "      <th></th>\n",
       "      <th>date</th>\n",
       "      <th>time</th>\n",
       "      <th>grid</th>\n",
       "      <th>trap</th>\n",
       "      <th>l_ear</th>\n",
       "      <th>r_ear</th>\n",
       "      <th>sex</th>\n",
       "      <th>age</th>\n",
       "      <th>weight</th>\n",
       "      <th>hindft</th>\n",
       "      <th>notes</th>\n",
       "      <th>b_key</th>\n",
       "      <th>session_id</th>\n",
       "      <th>study</th>\n",
       "    </tr>\n",
       "  </thead>\n",
       "  <tbody>\n",
       "    <tr>\n",
       "      <th>0</th>\n",
       "      <td>11/26/1998</td>\n",
       "      <td>NaN</td>\n",
       "      <td>bonrip</td>\n",
       "      <td>1A</td>\n",
       "      <td>414D096A08</td>\n",
       "      <td>NaN</td>\n",
       "      <td>NaN</td>\n",
       "      <td>NaN</td>\n",
       "      <td>1370.0</td>\n",
       "      <td>160.0</td>\n",
       "      <td>NaN</td>\n",
       "      <td>917.0</td>\n",
       "      <td>51</td>\n",
       "      <td>Population</td>\n",
       "    </tr>\n",
       "    <tr>\n",
       "      <th>1</th>\n",
       "      <td>11/26/1998</td>\n",
       "      <td>NaN</td>\n",
       "      <td>bonrip</td>\n",
       "      <td>2C</td>\n",
       "      <td>414D320671</td>\n",
       "      <td>NaN</td>\n",
       "      <td>M</td>\n",
       "      <td>NaN</td>\n",
       "      <td>1430.0</td>\n",
       "      <td>NaN</td>\n",
       "      <td>NaN</td>\n",
       "      <td>936.0</td>\n",
       "      <td>51</td>\n",
       "      <td>Population</td>\n",
       "    </tr>\n",
       "    <tr>\n",
       "      <th>2</th>\n",
       "      <td>11/26/1998</td>\n",
       "      <td>NaN</td>\n",
       "      <td>bonrip</td>\n",
       "      <td>2D</td>\n",
       "      <td>414D103E3A</td>\n",
       "      <td>NaN</td>\n",
       "      <td>M</td>\n",
       "      <td>NaN</td>\n",
       "      <td>1430.0</td>\n",
       "      <td>NaN</td>\n",
       "      <td>NaN</td>\n",
       "      <td>921.0</td>\n",
       "      <td>51</td>\n",
       "      <td>Population</td>\n",
       "    </tr>\n",
       "    <tr>\n",
       "      <th>3</th>\n",
       "      <td>11/26/1998</td>\n",
       "      <td>NaN</td>\n",
       "      <td>bonrip</td>\n",
       "      <td>2E</td>\n",
       "      <td>414D262D43</td>\n",
       "      <td>NaN</td>\n",
       "      <td>NaN</td>\n",
       "      <td>NaN</td>\n",
       "      <td>1490.0</td>\n",
       "      <td>135.0</td>\n",
       "      <td>NaN</td>\n",
       "      <td>931.0</td>\n",
       "      <td>51</td>\n",
       "      <td>Population</td>\n",
       "    </tr>\n",
       "    <tr>\n",
       "      <th>4</th>\n",
       "      <td>11/26/1998</td>\n",
       "      <td>NaN</td>\n",
       "      <td>bonrip</td>\n",
       "      <td>3B</td>\n",
       "      <td>414D2B4B58</td>\n",
       "      <td>NaN</td>\n",
       "      <td>NaN</td>\n",
       "      <td>NaN</td>\n",
       "      <td>1710.0</td>\n",
       "      <td>150.0</td>\n",
       "      <td>NaN</td>\n",
       "      <td>933.0</td>\n",
       "      <td>51</td>\n",
       "      <td>Population</td>\n",
       "    </tr>\n",
       "  </tbody>\n",
       "</table>\n",
       "</div>"
      ],
      "text/plain": [
       "         date time    grid trap       l_ear r_ear  sex  age  weight  hindft  \\\n",
       "0  11/26/1998  NaN  bonrip   1A  414D096A08   NaN  NaN  NaN  1370.0   160.0   \n",
       "1  11/26/1998  NaN  bonrip   2C  414D320671   NaN    M  NaN  1430.0     NaN   \n",
       "2  11/26/1998  NaN  bonrip   2D  414D103E3A   NaN    M  NaN  1430.0     NaN   \n",
       "3  11/26/1998  NaN  bonrip   2E  414D262D43   NaN  NaN  NaN  1490.0   135.0   \n",
       "4  11/26/1998  NaN  bonrip   3B  414D2B4B58   NaN  NaN  NaN  1710.0   150.0   \n",
       "\n",
       "  notes  b_key  session_id       study  \n",
       "0   NaN  917.0          51  Population  \n",
       "1   NaN  936.0          51  Population  \n",
       "2   NaN  921.0          51  Population  \n",
       "3   NaN  931.0          51  Population  \n",
       "4   NaN  933.0          51  Population  "
      ]
     },
     "execution_count": 16,
     "metadata": {},
     "output_type": "execute_result"
    }
   ],
   "source": [
    "hares_df.head()"
   ]
  },
  {
   "cell_type": "code",
   "execution_count": 35,
   "id": "5b81a59f-1af4-48c9-a1d4-17cfae5e87f1",
   "metadata": {
    "tags": []
   },
   "outputs": [
    {
     "name": "stdout",
     "output_type": "stream",
     "text": [
      "         date time    grid trap       l_ear r_ear  sex  age  weight  hindft  \\\n",
      "0  11/26/1998  NaN  bonrip   1A  414D096A08   NaN  NaN  NaN  1370.0   160.0   \n",
      "1  11/26/1998  NaN  bonrip   2C  414D320671   NaN    M  NaN  1430.0     NaN   \n",
      "2  11/26/1998  NaN  bonrip   2D  414D103E3A   NaN    M  NaN  1430.0     NaN   \n",
      "3  11/26/1998  NaN  bonrip   2E  414D262D43   NaN  NaN  NaN  1490.0   135.0   \n",
      "4  11/26/1998  NaN  bonrip   3B  414D2B4B58   NaN  NaN  NaN  1710.0   150.0   \n",
      "\n",
      "  notes  b_key  session_id       study  \n",
      "0   NaN  917.0          51  Population  \n",
      "1   NaN  936.0          51  Population  \n",
      "2   NaN  921.0          51  Population  \n",
      "3   NaN  931.0          51  Population  \n",
      "4   NaN  933.0          51  Population  \n",
      "          date      time    grid trap l_ear r_ear  sex  age  weight  hindft  \\\n",
      "3375  8/8/2002  18:00:00  bonrip  1b   1201  1202  NaN  NaN  1400.0     NaN   \n",
      "3376  8/8/2002   6:00:00  bonrip  4b   1201  1202  NaN  NaN     NaN     NaN   \n",
      "3377  8/7/2002       NaN  bonrip   4b  1217  1218  NaN  NaN  1000.0   134.0   \n",
      "3378  8/8/2002       NaN  bonrip   6d  1217  1218  NaN  NaN   990.0     NaN   \n",
      "3379  8/6/2002       NaN  bonrip   4b  1058  1060    M  NaN  1460.0   119.0   \n",
      "\n",
      "     notes  b_key  session_id       study  \n",
      "3375   NaN   63.0          64  Population  \n",
      "3376   NaN   63.0          64  Population  \n",
      "3377   NaN   69.0          64  Population  \n",
      "3378   NaN   69.0          64  Population  \n",
      "3379   NaN   32.0          64  Population  \n",
      "<class 'pandas.core.frame.DataFrame'>\n",
      "RangeIndex: 3380 entries, 0 to 3379\n",
      "Data columns (total 14 columns):\n",
      " #   Column      Non-Null Count  Dtype  \n",
      "---  ------      --------------  -----  \n",
      " 0   date        3380 non-null   object \n",
      " 1   time        264 non-null    object \n",
      " 2   grid        3380 non-null   object \n",
      " 3   trap        3368 non-null   object \n",
      " 4   l_ear       3332 non-null   object \n",
      " 5   r_ear       3211 non-null   object \n",
      " 6   sex         3028 non-null   object \n",
      " 7   age         1269 non-null   object \n",
      " 8   weight      2845 non-null   float64\n",
      " 9   hindft      1633 non-null   float64\n",
      " 10  notes       243 non-null    object \n",
      " 11  b_key       3333 non-null   float64\n",
      " 12  session_id  3380 non-null   int64  \n",
      " 13  study       3217 non-null   object \n",
      "dtypes: float64(3), int64(1), object(10)\n",
      "memory usage: 369.8+ KB\n",
      "None\n"
     ]
    }
   ],
   "source": [
    "print(hares.head(), end = \"\\n\")\n",
    "print(hares.tail(), end = \"\\n\")\n",
    "print(hares.info(), end = \"\\n\")"
   ]
  },
  {
   "cell_type": "code",
   "execution_count": 30,
   "id": "82be9317-3799-496b-8da3-b12420147356",
   "metadata": {
    "tags": []
   },
   "outputs": [
    {
     "name": "stdout",
     "output_type": "stream",
     "text": [
      "<class 'pandas.core.frame.DataFrame'>\n",
      "RangeIndex: 3380 entries, 0 to 3379\n",
      "Data columns (total 14 columns):\n",
      " #   Column      Non-Null Count  Dtype  \n",
      "---  ------      --------------  -----  \n",
      " 0   date        3380 non-null   object \n",
      " 1   time        264 non-null    object \n",
      " 2   grid        3380 non-null   object \n",
      " 3   trap        3368 non-null   object \n",
      " 4   l_ear       3332 non-null   object \n",
      " 5   r_ear       3211 non-null   object \n",
      " 6   sex         3028 non-null   object \n",
      " 7   age         1269 non-null   object \n",
      " 8   weight      2845 non-null   float64\n",
      " 9   hindft      1633 non-null   float64\n",
      " 10  notes       243 non-null    object \n",
      " 11  b_key       3333 non-null   float64\n",
      " 12  session_id  3380 non-null   int64  \n",
      " 13  study       3217 non-null   object \n",
      "dtypes: float64(3), int64(1), object(10)\n",
      "memory usage: 369.8+ KB\n"
     ]
    }
   ],
   "source": [
    "hares.info()"
   ]
  },
  {
   "cell_type": "markdown",
   "id": "be27e8c8-adef-4a03-b1d0-16805a5e264e",
   "metadata": {},
   "source": [
    "# Exploratory Qs"
   ]
  },
  {
   "cell_type": "markdown",
   "id": "7cfce22a-b592-49b7-96d7-eceb8a4e9470",
   "metadata": {},
   "source": [
    "## What are the dimensions of the dataframe and what are the data types of the columns? Do the data types match what you would expect from each column?"
   ]
  },
  {
   "cell_type": "code",
   "execution_count": 36,
   "id": "ca95ddaa-822d-4ca3-b7de-8caccd780771",
   "metadata": {
    "tags": []
   },
   "outputs": [
    {
     "name": "stdout",
     "output_type": "stream",
     "text": [
      "(3380, 14)\n"
     ]
    }
   ],
   "source": [
    "print(hares.shape, end = \"\\n\")"
   ]
  },
  {
   "cell_type": "markdown",
   "id": "e6756c60-90ee-4f84-bfbc-6dadefad33b3",
   "metadata": {},
   "source": [
    "The dimensions are 3380 observations and 14 variables"
   ]
  },
  {
   "cell_type": "markdown",
   "id": "e6372113-cfe5-461f-ab32-bdfe3f5c5e75",
   "metadata": {},
   "source": [
    "## Are there any columns that have a significant number of NA values?"
   ]
  },
  {
   "cell_type": "code",
   "execution_count": 39,
   "id": "2e14e48b-1d2b-4933-85c2-a409b24b6525",
   "metadata": {
    "tags": []
   },
   "outputs": [
    {
     "data": {
      "text/plain": [
       "date             0\n",
       "time          3116\n",
       "grid             0\n",
       "trap            12\n",
       "l_ear           48\n",
       "r_ear          169\n",
       "sex            352\n",
       "age           2111\n",
       "weight         535\n",
       "hindft        1747\n",
       "notes         3137\n",
       "b_key           47\n",
       "session_id       0\n",
       "study          163\n",
       "dtype: int64"
      ]
     },
     "execution_count": 39,
     "metadata": {},
     "output_type": "execute_result"
    }
   ],
   "source": [
    "hares.isna().sum()"
   ]
  },
  {
   "cell_type": "markdown",
   "id": "d8849da1-cac3-4e71-839c-dc79aa130331",
   "metadata": {},
   "source": [
    "Counting NAs, we see that a significant amount of NA values in column time, age, hindft, sex, and notes columns.\n",
    "\n",
    "## What are the minimum and maximum values for  the weight and hind feet measurements?"
   ]
  },
  {
   "cell_type": "code",
   "execution_count": 50,
   "id": "9c8b2868-6497-4a96-92e8-e017d1d2f1ed",
   "metadata": {
    "tags": []
   },
   "outputs": [
    {
     "name": "stdout",
     "output_type": "stream",
     "text": [
      "The min and max of weight are \n",
      "\n",
      "0.0\n",
      "2365.0 \n",
      "\n",
      "The min and max of hind feet are \n",
      "\n",
      "60.0\n",
      "160.0\n"
     ]
    }
   ],
   "source": [
    "print('The min and max of weight are \\n')\n",
    "print(hares['weight'].min())\n",
    "print(hares['weight'].max(),'\\n')\n",
    "print('The min and max of hind feet are \\n')\n",
    "print(hares['hindft'].min())\n",
    "print(hares['hindft'].max())"
   ]
  },
  {
   "cell_type": "markdown",
   "id": "c3fd0cfd-59ef-4ef6-afa0-0702813644e8",
   "metadata": {},
   "source": [
    "## What are the unique values for some of the categorical columns?"
   ]
  },
  {
   "cell_type": "code",
   "execution_count": 56,
   "id": "a7856549-463f-49de-acdd-5239d374f56e",
   "metadata": {
    "tags": []
   },
   "outputs": [
    {
     "name": "stdout",
     "output_type": "stream",
     "text": [
      "['bonrip' 'bonbs' 'Bonbs' 'bonmat' 'bonmat ']\n",
      "[nan 'M' 'F' '?' 'F?' 'M?' 'pf' 'm' 'f' 'f?' 'm?' 'f ' 'm ']\n",
      "['bonrip' 'bonbs' 'Bonbs' 'bonmat' 'bonmat ']\n"
     ]
    }
   ],
   "source": [
    "print(hares['grid'].unique())\n",
    "print(hares['sex'].unique())"
   ]
  },
  {
   "cell_type": "code",
   "execution_count": 58,
   "id": "f1fd3452-2cf6-4aa6-b939-1a1d70af7c30",
   "metadata": {
    "tags": []
   },
   "outputs": [
    {
     "name": "stdout",
     "output_type": "stream",
     "text": [
      "5\n",
      "12\n",
      "266\n",
      "121\n"
     ]
    }
   ],
   "source": [
    "print(hares['grid'].nunique())\n",
    "print(hares['sex'].nunique())\n",
    "print(hares['weight'].nunique())\n",
    "print(hares['trap'].nunique())"
   ]
  },
  {
   "cell_type": "markdown",
   "id": "719bd4e8-99b6-4dc3-8522-a0ef1c986004",
   "metadata": {},
   "source": [
    "- An explroatory question about the data frame you come up with!"
   ]
  },
  {
   "cell_type": "code",
   "execution_count": null,
   "id": "e1288f4f-d991-4460-a931-c8325f0f8df4",
   "metadata": {},
   "outputs": [],
   "source": []
  }
 ],
 "metadata": {
  "kernelspec": {
   "display_name": "EDS220",
   "language": "python",
   "name": "eds220-env"
  },
  "language_info": {
   "codemirror_mode": {
    "name": "ipython",
    "version": 3
   },
   "file_extension": ".py",
   "mimetype": "text/x-python",
   "name": "python",
   "nbconvert_exporter": "python",
   "pygments_lexer": "ipython3",
   "version": "3.11.4"
  }
 },
 "nbformat": 4,
 "nbformat_minor": 5
}
